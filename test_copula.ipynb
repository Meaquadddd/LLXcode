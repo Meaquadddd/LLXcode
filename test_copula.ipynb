{
 "cells": [
  {
   "cell_type": "code",
   "execution_count": 5,
   "metadata": {
    "vscode": {
     "languageId": "r"
    }
   },
   "outputs": [
    {
     "name": "stderr",
     "output_type": "stream",
     "text": [
      "Loading required package: xts\n",
      "\n",
      "Loading required package: zoo\n",
      "\n",
      "\n",
      "Attaching package: 'zoo'\n",
      "\n",
      "\n",
      "The following objects are masked from 'package:base':\n",
      "\n",
      "    as.Date, as.Date.numeric\n",
      "\n",
      "\n",
      "Loading required package: TTR\n",
      "\n",
      "Registered S3 method overwritten by 'quantmod':\n",
      "  method            from\n",
      "  as.zoo.data.frame zoo \n",
      "\n",
      "Loading required package: lubridate\n",
      "\n",
      "\n",
      "Attaching package: 'lubridate'\n",
      "\n",
      "\n",
      "The following objects are masked from 'package:base':\n",
      "\n",
      "    date, intersect, setdiff, union\n",
      "\n",
      "\n",
      "Loading required package: PerformanceAnalytics\n",
      "\n",
      "\n",
      "Attaching package: 'PerformanceAnalytics'\n",
      "\n",
      "\n",
      "The following object is masked from 'package:graphics':\n",
      "\n",
      "    legend\n",
      "\n",
      "\n",
      "Loading required package: parallel\n",
      "\n",
      "\n",
      "Attaching package: 'rugarch'\n",
      "\n",
      "\n",
      "The following object is masked from 'package:stats':\n",
      "\n",
      "    sigma\n",
      "\n",
      "\n",
      "\n",
      "Attaching package: 'copula'\n",
      "\n",
      "\n",
      "The following object is masked from 'package:lubridate':\n",
      "\n",
      "    interval\n",
      "\n",
      "\n",
      "Loading required package: stats4\n",
      "\n",
      "Loading required package: splines\n",
      "\n",
      "\n",
      "Attaching package: 'VGAM'\n",
      "\n",
      "\n",
      "The following objects are masked from 'package:copula':\n",
      "\n",
      "    log1mexp, log1pexp, rlog\n",
      "\n",
      "\n",
      "Loading required package: KernSmooth\n",
      "\n",
      "KernSmooth 2.23 loaded\n",
      "Copyright M. P. Wand 1997-2009\n",
      "\n",
      "\n",
      "Attaching package: 'mistr'\n",
      "\n",
      "\n",
      "The following objects are masked from 'package:VGAM':\n",
      "\n",
      "    dfrechet, dgumbel, dpareto, pfrechet, pgumbel, ppareto, qfrechet,\n",
      "    qgumbel, qpareto, rfrechet, rgumbel, rpareto\n",
      "\n",
      "\n",
      "The following object is masked from 'package:base':\n",
      "\n",
      "    q\n",
      "\n",
      "\n",
      "corrplot 0.92 loaded\n",
      "\n"
     ]
    }
   ],
   "source": [
    "library('quantmod')\n",
    "library('tidyquant')\n",
    "library('rugarch')\n",
    "library('copula')\n",
    "library('VGAM')\n",
    "library('ggplot2')\n",
    "library('GoFKernel')\n",
    "library('mistr')\n",
    "library('tseries')\n",
    "library('stats')\n",
    "library('fDMA')\n",
    "library('corrplot')"
   ]
  },
  {
   "cell_type": "code",
   "execution_count": 12,
   "metadata": {
    "vscode": {
     "languageId": "r"
    }
   },
   "outputs": [
    {
     "data": {
      "text/html": [
       "<style>\n",
       ".dl-inline {width: auto; margin:0; padding: 0}\n",
       ".dl-inline>dt, .dl-inline>dd {float: none; width: auto; display: inline-block}\n",
       ".dl-inline>dt::after {content: \":\\0020\"; padding-right: .5ex}\n",
       ".dl-inline>dt:not(:first-of-type) {padding-left: .5ex}\n",
       "</style><dl class=dl-inline><dt>lower</dt><dd>0</dd><dt>upper</dt><dd>0.25</dd></dl>\n"
      ],
      "text/latex": [
       "\\begin{description*}\n",
       "\\item[lower] 0\n",
       "\\item[upper] 0.25\n",
       "\\end{description*}\n"
      ],
      "text/markdown": [
       "lower\n",
       ":   0upper\n",
       ":   0.25\n",
       "\n"
      ],
      "text/plain": [
       "lower upper \n",
       " 0.00  0.25 "
      ]
     },
     "metadata": {},
     "output_type": "display_data"
    }
   ],
   "source": [
    "delta <- 0.5\n",
    "clayton <- claytonCopula(delta,dim = 2)\n",
    "rot_clayton <- rotCopula(clayton)\n",
    "lambda(rot_clayton)\n",
    "# cCopula(cbind(0.5,0.5),indices = 2,clayton)"
   ]
  },
  {
   "cell_type": "code",
   "execution_count": 10,
   "metadata": {
    "vscode": {
     "languageId": "r"
    }
   },
   "outputs": [
    {
     "data": {
      "text/html": [
       "<style>\n",
       ".dl-inline {width: auto; margin:0; padding: 0}\n",
       ".dl-inline>dt, .dl-inline>dd {float: none; width: auto; display: inline-block}\n",
       ".dl-inline>dt::after {content: \":\\0020\"; padding-right: .5ex}\n",
       ".dl-inline>dt:not(:first-of-type) {padding-left: .5ex}\n",
       "</style><dl class=dl-inline><dt>lower</dt><dd>0</dd><dt>upper</dt><dd>0.5</dd></dl>\n"
      ],
      "text/latex": [
       "\\begin{description*}\n",
       "\\item[lower] 0\n",
       "\\item[upper] 0.5\n",
       "\\end{description*}\n"
      ],
      "text/markdown": [
       "lower\n",
       ":   0upper\n",
       ":   0.5\n",
       "\n"
      ],
      "text/plain": [
       "lower upper \n",
       "  0.0   0.5 "
      ]
     },
     "metadata": {},
     "output_type": "display_data"
    }
   ],
   "source": []
  },
  {
   "cell_type": "code",
   "execution_count": 50,
   "metadata": {
    "vscode": {
     "languageId": "r"
    }
   },
   "outputs": [],
   "source": [
    "## ground true\n",
    "gt_clayton <- function(u,v){\n",
    "    (u^(-delta)+v^{-delta}-1)^(-1 / delta)\n",
    "}\n",
    "\n",
    "gt_rot_clayton <- function(u,v) {\n",
    "      u+v-1+gt_clayton(1-u,1-v)\n",
    "    }\n",
    "\n",
    "conditional_clayton <- function(u,v){\n",
    "    (1 + u^delta * (v^(-delta) - 1))^(-1 / delta - 1)\n",
    "}"
   ]
  },
  {
   "cell_type": "code",
   "execution_count": 51,
   "metadata": {
    "vscode": {
     "languageId": "r"
    }
   },
   "outputs": [
    {
     "name": "stdout",
     "output_type": "stream",
     "text": [
      "[1] 0.4444444\n"
     ]
    }
   ],
   "source": [
    "print(conditional_clayton(0.5,0.5))"
   ]
  },
  {
   "cell_type": "code",
   "execution_count": 44,
   "metadata": {
    "vscode": {
     "languageId": "r"
    }
   },
   "outputs": [
    {
     "name": "stdout",
     "output_type": "stream",
     "text": [
      "[1] 0.3333333\n",
      "[1] 0.3333333\n"
     ]
    }
   ],
   "source": [
    "u1 <- 0.5  # 第一个变量的值\n",
    "u2 <- 0.5  # 第二个变量的值\n",
    "p1 <- pCopula(cbind(u1, u2), clayton)\n",
    "p2 <- gt_clayton(u1, u2)\n",
    "print(p1)\n",
    "print(p2)"
   ]
  },
  {
   "cell_type": "code",
   "execution_count": 45,
   "metadata": {
    "vscode": {
     "languageId": "r"
    }
   },
   "outputs": [
    {
     "name": "stdout",
     "output_type": "stream",
     "text": [
      "[1] 0.3333333\n",
      "[1] 0.3333333\n"
     ]
    }
   ],
   "source": [
    "u1 <- 0.5  # 第一个变量的值\n",
    "u2 <- 0.5  # 第二个变量的值\n",
    "p1 <- pCopula(cbind(u1, u2), rot_clayton)\n",
    "p2 <- gt_rot_clayton(u1, u2)\n",
    "print(p1)\n",
    "print(p2)"
   ]
  },
  {
   "cell_type": "code",
   "execution_count": null,
   "metadata": {
    "vscode": {
     "languageId": "r"
    }
   },
   "outputs": [],
   "source": []
  },
  {
   "cell_type": "code",
   "execution_count": 13,
   "metadata": {
    "vscode": {
     "languageId": "r"
    }
   },
   "outputs": [
    {
     "data": {
      "text/html": [
       "FALSE"
      ],
      "text/latex": [
       "FALSE"
      ],
      "text/markdown": [
       "FALSE"
      ],
      "text/plain": [
       "[1] FALSE"
      ]
     },
     "metadata": {},
     "output_type": "display_data"
    },
    {
     "data": {
      "text/plain": [
       "Call: fitCopula(gumbelCopula(), data = u, ... = pairlist(method = \"itau\"))\n",
       "Fit based on \"inversion of Kendall's tau\" and 64 2-dimensional observations.\n",
       "Copula: gumbelCopula \n",
       "alpha \n",
       "3.262 "
      ]
     },
     "metadata": {},
     "output_type": "display_data"
    },
    {
     "data": {
      "text/html": [
       "<table class=\"dataframe\">\n",
       "<caption>A matrix: 1 × 2 of type dbl</caption>\n",
       "<thead>\n",
       "\t<tr><th></th><th scope=col>2.5 %</th><th scope=col>97.5 %</th></tr>\n",
       "</thead>\n",
       "<tbody>\n",
       "\t<tr><th scope=row>alpha</th><td>2.099906</td><td>4.424366</td></tr>\n",
       "</tbody>\n",
       "</table>\n"
      ],
      "text/latex": [
       "A matrix: 1 × 2 of type dbl\n",
       "\\begin{tabular}{r|ll}\n",
       "  & 2.5 \\% & 97.5 \\%\\\\\n",
       "\\hline\n",
       "\talpha & 2.099906 & 4.424366\\\\\n",
       "\\end{tabular}\n"
      ],
      "text/markdown": [
       "\n",
       "A matrix: 1 × 2 of type dbl\n",
       "\n",
       "| <!--/--> | 2.5 % | 97.5 % |\n",
       "|---|---|---|\n",
       "| alpha | 2.099906 | 4.424366 |\n",
       "\n"
      ],
      "text/plain": [
       "      2.5 %    97.5 %  \n",
       "alpha 2.099906 4.424366"
      ]
     },
     "metadata": {},
     "output_type": "display_data"
    },
    {
     "data": {
      "text/html": [
       "<table class=\"dataframe\">\n",
       "<caption>A matrix: 1 × 2 of type dbl</caption>\n",
       "<thead>\n",
       "\t<tr><th></th><th scope=col>1 %</th><th scope=col>99 %</th></tr>\n",
       "</thead>\n",
       "<tbody>\n",
       "\t<tr><th scope=row>alpha</th><td>1.882645</td><td>4.641627</td></tr>\n",
       "</tbody>\n",
       "</table>\n"
      ],
      "text/latex": [
       "A matrix: 1 × 2 of type dbl\n",
       "\\begin{tabular}{r|ll}\n",
       "  & 1 \\% & 99 \\%\\\\\n",
       "\\hline\n",
       "\talpha & 1.882645 & 4.641627\\\\\n",
       "\\end{tabular}\n"
      ],
      "text/markdown": [
       "\n",
       "A matrix: 1 × 2 of type dbl\n",
       "\n",
       "| <!--/--> | 1 % | 99 % |\n",
       "|---|---|---|\n",
       "| alpha | 1.882645 | 4.641627 |\n",
       "\n"
      ],
      "text/plain": [
       "      1 %      99 %    \n",
       "alpha 1.882645 4.641627"
      ]
     },
     "metadata": {},
     "output_type": "display_data"
    },
    {
     "data": {
      "text/plain": [
       "Call: fitCopula(gumbelCopula(), data = u, ... = pairlist(method = \"itau\"))\n",
       "Fit based on \"inversion of Kendall's tau\" and 64 2-dimensional observations.\n",
       "Gumbel copula, dim. d = 2 \n",
       "      Estimate Std. Error\n",
       "alpha    3.262      0.593"
      ]
     },
     "metadata": {},
     "output_type": "display_data"
    },
    {
     "data": {
      "text/html": [
       "<strong>alpha:</strong> 3.2621359223301"
      ],
      "text/latex": [
       "\\textbf{alpha:} 3.2621359223301"
      ],
      "text/markdown": [
       "**alpha:** 3.2621359223301"
      ],
      "text/plain": [
       "   alpha \n",
       "3.262136 "
      ]
     },
     "metadata": {},
     "output_type": "display_data"
    },
    {
     "data": {
      "text/html": [
       "<table class=\"dataframe\">\n",
       "<caption>A matrix: 1 × 2 of type dbl</caption>\n",
       "<thead>\n",
       "\t<tr><th></th><th scope=col>Estimate</th><th scope=col>Std. Error</th></tr>\n",
       "</thead>\n",
       "<tbody>\n",
       "\t<tr><th scope=row>alpha</th><td>3.262136</td><td>0.5929855</td></tr>\n",
       "</tbody>\n",
       "</table>\n"
      ],
      "text/latex": [
       "A matrix: 1 × 2 of type dbl\n",
       "\\begin{tabular}{r|ll}\n",
       "  & Estimate & Std. Error\\\\\n",
       "\\hline\n",
       "\talpha & 3.262136 & 0.5929855\\\\\n",
       "\\end{tabular}\n"
      ],
      "text/markdown": [
       "\n",
       "A matrix: 1 × 2 of type dbl\n",
       "\n",
       "| <!--/--> | Estimate | Std. Error |\n",
       "|---|---|---|\n",
       "| alpha | 3.262136 | 0.5929855 |\n",
       "\n"
      ],
      "text/plain": [
       "      Estimate Std. Error\n",
       "alpha 3.262136 0.5929855 "
      ]
     },
     "metadata": {},
     "output_type": "display_data"
    }
   ],
   "source": [
    "(Xtras <- copula:::doExtras()) # determine whether examples will be extra (long)\n",
    "n <- if(Xtras) 200 else 64 # sample size\n",
    "## A Gumbel copula\n",
    "set.seed(7) # for reproducibility\n",
    "gumbel.cop <- gumbelCopula(3, dim=2)\n",
    "x <- rCopula(n, gumbel.cop) # \"true\" observations (simulated)\n",
    "u <- pobs(x)                # pseudo-observations\n",
    "## Inverting Kendall's tau\n",
    "fit.tau <- fitCopula(gumbelCopula(), u, method=\"itau\")\n",
    "fit.tau\n",
    "confint(fit.tau) # work fine !\n",
    "confint(fit.tau, level = 0.98)\n",
    "summary(fit.tau) # a bit more, notably \"Std. Error\"s\n",
    "coef(fit.tau)# named vector\n",
    "coef(fit.tau, SE = TRUE)# matrix"
   ]
  },
  {
   "cell_type": "code",
   "execution_count": 54,
   "metadata": {
    "vscode": {
     "languageId": "r"
    }
   },
   "outputs": [],
   "source": [
    "foo <- gumbelCopula(3.2,dim=2)"
   ]
  },
  {
   "cell_type": "code",
   "execution_count": 57,
   "metadata": {
    "vscode": {
     "languageId": "r"
    }
   },
   "outputs": [
    {
     "data": {
      "text/html": [
       "0.866543635448084"
      ],
      "text/latex": [
       "0.866543635448084"
      ],
      "text/markdown": [
       "0.866543635448084"
      ],
      "text/plain": [
       "[1] 0.8665436"
      ]
     },
     "metadata": {},
     "output_type": "display_data"
    }
   ],
   "source": [
    "rho(foo)"
   ]
  },
  {
   "cell_type": "code",
   "execution_count": null,
   "metadata": {
    "vscode": {
     "languageId": "r"
    }
   },
   "outputs": [],
   "source": []
  },
  {
   "cell_type": "code",
   "execution_count": null,
   "metadata": {
    "vscode": {
     "languageId": "r"
    }
   },
   "outputs": [],
   "source": [
    "ugarchspec()"
   ]
  },
  {
   "cell_type": "code",
   "execution_count": 45,
   "metadata": {
    "vscode": {
     "languageId": "r"
    }
   },
   "outputs": [],
   "source": [
    "foo <- GNG_fit(stocks$SAP)"
   ]
  },
  {
   "cell_type": "code",
   "execution_count": 46,
   "metadata": {
    "vscode": {
     "languageId": "r"
    }
   },
   "outputs": [
    {
     "data": {
      "text/plain": [
       "Fitted composite GPD-Normal-GPD distribution: \n",
       "\n",
       "Breakpoints: -0.019414 0.019353 \n",
       "Weights: 0.091343 0.812546 0.096112 \n",
       "\n",
       "Parameters: \n",
       "    loc1   scale1   shape1     mean       sd     loc2   scale2   shape2 \n",
       "0.019414 0.013439 0.150141 0.000907 0.011696 0.019353 0.010842 0.096832 \n",
       "\n",
       "Log-likelihood: 7423.245,  Average log-likelihood: 2.7231\n"
      ]
     },
     "metadata": {},
     "output_type": "display_data"
    }
   ],
   "source": [
    "foo"
   ]
  },
  {
   "cell_type": "code",
   "execution_count": 49,
   "metadata": {
    "vscode": {
     "languageId": "r"
    }
   },
   "outputs": [
    {
     "data": {
      "text/html": [
       "<dl>\n",
       "\t<dt>$breakpoints</dt>\n",
       "\t\t<dd><style>\n",
       ".dl-inline {width: auto; margin:0; padding: 0}\n",
       ".dl-inline>dt, .dl-inline>dd {float: none; width: auto; display: inline-block}\n",
       ".dl-inline>dt::after {content: \":\\0020\"; padding-right: .5ex}\n",
       ".dl-inline>dt:not(:first-of-type) {padding-left: .5ex}\n",
       "</style><dl class=dl-inline><dt>break1</dt><dd>-0.0194139375116309</dd><dt>break2</dt><dd>0.019352789613113</dd></dl>\n",
       "</dd>\n",
       "\t<dt>$weights</dt>\n",
       "\t\t<dd><style>\n",
       ".list-inline {list-style: none; margin:0; padding: 0}\n",
       ".list-inline>li {display: inline-block}\n",
       ".list-inline>li:not(:last-child)::after {content: \"\\00b7\"; padding: 0 .5ex}\n",
       "</style>\n",
       "<ol class=list-inline><li>0.0913426265590609</li><li>0.812545854732208</li><li>0.0961115187087307</li></ol>\n",
       "</dd>\n",
       "\t<dt>$coeff</dt>\n",
       "\t\t<dd><style>\n",
       ".dl-inline {width: auto; margin:0; padding: 0}\n",
       ".dl-inline>dt, .dl-inline>dd {float: none; width: auto; display: inline-block}\n",
       ".dl-inline>dt::after {content: \":\\0020\"; padding-right: .5ex}\n",
       ".dl-inline>dt:not(:first-of-type) {padding-left: .5ex}\n",
       "</style><dl class=dl-inline><dt>loc1</dt><dd>0.0194139375116309</dd><dt>scale1</dt><dd>0.0134390916978174</dd><dt>shape1</dt><dd>0.150141198606822</dd><dt>mean</dt><dd>0.000906911979477868</dd><dt>sd</dt><dd>0.0116961627965282</dd><dt>loc2</dt><dd>0.019352789613113</dd><dt>scale2</dt><dd>0.0108416226906523</dd><dt>shape2</dt><dd>0.096832362611502</dd></dl>\n",
       "</dd>\n",
       "</dl>\n"
      ],
      "text/latex": [
       "\\begin{description}\n",
       "\\item[\\$breakpoints] \\begin{description*}\n",
       "\\item[break1] -0.0194139375116309\n",
       "\\item[break2] 0.019352789613113\n",
       "\\end{description*}\n",
       "\n",
       "\\item[\\$weights] \\begin{enumerate*}\n",
       "\\item 0.0913426265590609\n",
       "\\item 0.812545854732208\n",
       "\\item 0.0961115187087307\n",
       "\\end{enumerate*}\n",
       "\n",
       "\\item[\\$coeff] \\begin{description*}\n",
       "\\item[loc1] 0.0194139375116309\n",
       "\\item[scale1] 0.0134390916978174\n",
       "\\item[shape1] 0.150141198606822\n",
       "\\item[mean] 0.000906911979477868\n",
       "\\item[sd] 0.0116961627965282\n",
       "\\item[loc2] 0.019352789613113\n",
       "\\item[scale2] 0.0108416226906523\n",
       "\\item[shape2] 0.096832362611502\n",
       "\\end{description*}\n",
       "\n",
       "\\end{description}\n"
      ],
      "text/markdown": [
       "$breakpoints\n",
       ":   break1\n",
       ":   -0.0194139375116309break2\n",
       ":   0.019352789613113\n",
       "\n",
       "\n",
       "$weights\n",
       ":   1. 0.0913426265590609\n",
       "2. 0.812545854732208\n",
       "3. 0.0961115187087307\n",
       "\n",
       "\n",
       "\n",
       "$coeff\n",
       ":   loc1\n",
       ":   0.0194139375116309scale1\n",
       ":   0.0134390916978174shape1\n",
       ":   0.150141198606822mean\n",
       ":   0.000906911979477868sd\n",
       ":   0.0116961627965282loc2\n",
       ":   0.019352789613113scale2\n",
       ":   0.0108416226906523shape2\n",
       ":   0.096832362611502\n",
       "\n",
       "\n",
       "\n",
       "\n"
      ],
      "text/plain": [
       "$breakpoints\n",
       "     break1      break2 \n",
       "-0.01941394  0.01935279 \n",
       "\n",
       "$weights\n",
       "[1] 0.09134263 0.81254585 0.09611152\n",
       "\n",
       "$coeff\n",
       "       loc1      scale1      shape1        mean          sd        loc2 \n",
       "0.019413938 0.013439092 0.150141199 0.000906912 0.011696163 0.019352790 \n",
       "     scale2      shape2 \n",
       "0.010841623 0.096832363 \n"
      ]
     },
     "metadata": {},
     "output_type": "display_data"
    }
   ],
   "source": [
    "foo$params"
   ]
  },
  {
   "cell_type": "code",
   "execution_count": 51,
   "metadata": {
    "vscode": {
     "languageId": "r"
    }
   },
   "outputs": [
    {
     "data": {
      "text/plain": [
       "Composite distribution with: \n",
       " \n",
       "  Trafo       Distribution                                   Parameters Weight\n",
       "1  -X   Generalized Pareto loc = 0.0194, scale = 0.0134, shape = 0.1501 0.0913\n",
       "2 none        Normal                mean = 9e-04, sd = 0.0117           0.8125\n",
       "3 none  Generalized Pareto loc = 0.0194, scale = 0.0108, shape = 0.0968 0.0961\n",
       "        Truncation\n",
       "1  (-Inf,-0.0194) \n",
       "2 [-0.0194,0.0194)\n",
       "3   [0.0194,Inf)  "
      ]
     },
     "metadata": {},
     "output_type": "display_data"
    }
   ],
   "source": [
    "foo$Distribution"
   ]
  },
  {
   "cell_type": "code",
   "execution_count": 65,
   "metadata": {
    "vscode": {
     "languageId": "r"
    }
   },
   "outputs": [
    {
     "data": {
      "text/html": [
       "<dl>\n",
       "\t<dt>$maxiter</dt>\n",
       "\t\t<dd>1000</dd>\n",
       "\t<dt>$k</dt>\n",
       "\t\t<dd>2</dd>\n",
       "\t<dt>$InitialStepSize</dt>\n",
       "\t\t<dd>1</dd>\n",
       "\t<dt>$big</dt>\n",
       "\t\t<dd>1e+20</dd>\n",
       "\t<dt>$eps</dt>\n",
       "\t\t<dd>1e-07</dd>\n",
       "\t<dt>$beta</dt>\n",
       "\t\t<dd>0.97</dd>\n",
       "</dl>\n"
      ],
      "text/latex": [
       "\\begin{description}\n",
       "\\item[\\$maxiter] 1000\n",
       "\\item[\\$k] 2\n",
       "\\item[\\$InitialStepSize] 1\n",
       "\\item[\\$big] 1e+20\n",
       "\\item[\\$eps] 1e-07\n",
       "\\item[\\$beta] 0.97\n",
       "\\end{description}\n"
      ],
      "text/markdown": [
       "$maxiter\n",
       ":   1000\n",
       "$k\n",
       ":   2\n",
       "$InitialStepSize\n",
       ":   1\n",
       "$big\n",
       ":   1e+20\n",
       "$eps\n",
       ":   1e-07\n",
       "$beta\n",
       ":   0.97\n",
       "\n",
       "\n"
      ],
      "text/plain": [
       "$maxiter\n",
       "[1] 1000\n",
       "\n",
       "$k\n",
       "[1] 2\n",
       "\n",
       "$InitialStepSize\n",
       "[1] 1\n",
       "\n",
       "$big\n",
       "[1] 1e+20\n",
       "\n",
       "$eps\n",
       "[1] 1e-07\n",
       "\n",
       "$beta\n",
       "[1] 0.97\n"
      ]
     },
     "metadata": {},
     "output_type": "display_data"
    }
   ],
   "source": [
    "nlrq.control(maxiter = 1000,eps = 1e-04)"
   ]
  },
  {
   "cell_type": "code",
   "execution_count": null,
   "metadata": {
    "vscode": {
     "languageId": "r"
    }
   },
   "outputs": [],
   "source": []
  }
 ],
 "metadata": {
  "kernelspec": {
   "display_name": "R",
   "language": "R",
   "name": "ir"
  },
  "language_info": {
   "codemirror_mode": "r",
   "file_extension": ".r",
   "mimetype": "text/x-r-source",
   "name": "R",
   "pygments_lexer": "r",
   "version": "4.4.0"
  }
 },
 "nbformat": 4,
 "nbformat_minor": 2
}
